{
 "cells": [
  {
   "cell_type": "code",
   "execution_count": 1,
   "id": "19ff46d7-19df-4178-a34d-f6569b7f7e39",
   "metadata": {},
   "outputs": [
    {
     "name": "stdout",
     "output_type": "stream",
     "text": [
      "----Contact Book----\n",
      "1. Add Contact\n",
      "2. View Contact List\n",
      "3. Search Contact\n",
      "4. Update Contact\n",
      "5. Delete Contact\n",
      "6. Exit\n"
     ]
    },
    {
     "name": "stdin",
     "output_type": "stream",
     "text": [
      "Enter your choice =  1\n",
      "Enter name  to add contact = shubham\n",
      "Enter phone number: 1345673456\n",
      "Enter email address: shuhjn@Jhbjn\n",
      "Enter address: bhopal\n"
     ]
    },
    {
     "name": "stdout",
     "output_type": "stream",
     "text": [
      "Contact name shubham has been created successfully!\n",
      "----Contact Book----\n",
      "1. Add Contact\n",
      "2. View Contact List\n",
      "3. Search Contact\n",
      "4. Update Contact\n",
      "5. Delete Contact\n",
      "6. Exit\n"
     ]
    },
    {
     "name": "stdin",
     "output_type": "stream",
     "text": [
      "Enter your choice =  2\n",
      "Enter name to view in contact list: shubham\n"
     ]
    },
    {
     "name": "stdout",
     "output_type": "stream",
     "text": [
      "Phone number :1345673456,'Email':shuhjn@Jhbjn,'Address':bhopal\n",
      "----Contact Book----\n",
      "1. Add Contact\n",
      "2. View Contact List\n",
      "3. Search Contact\n",
      "4. Update Contact\n",
      "5. Delete Contact\n",
      "6. Exit\n"
     ]
    },
    {
     "name": "stdin",
     "output_type": "stream",
     "text": [
      "Enter your choice =  mahima\n"
     ]
    },
    {
     "name": "stdout",
     "output_type": "stream",
     "text": [
      "Invalid choice.\n",
      "----Contact Book----\n",
      "1. Add Contact\n",
      "2. View Contact List\n",
      "3. Search Contact\n",
      "4. Update Contact\n",
      "5. Delete Contact\n",
      "6. Exit\n"
     ]
    },
    {
     "name": "stdin",
     "output_type": "stream",
     "text": [
      "Enter your choice =  3\n",
      "Enter contact name to search : mahima\n"
     ]
    },
    {
     "name": "stdout",
     "output_type": "stream",
     "text": [
      "No contact found with that name\n",
      "----Contact Book----\n",
      "1. Add Contact\n",
      "2. View Contact List\n",
      "3. Search Contact\n",
      "4. Update Contact\n",
      "5. Delete Contact\n",
      "6. Exit\n"
     ]
    },
    {
     "name": "stdin",
     "output_type": "stream",
     "text": [
      "Enter your choice =  1\n",
      "Enter name  to add contact = mahima\n",
      "Enter phone number: 345678\n",
      "Enter email address: wertyu4567\n",
      "Enter address: ghkj\n"
     ]
    },
    {
     "name": "stdout",
     "output_type": "stream",
     "text": [
      "Contact name mahima has been created successfully!\n",
      "----Contact Book----\n",
      "1. Add Contact\n",
      "2. View Contact List\n",
      "3. Search Contact\n",
      "4. Update Contact\n",
      "5. Delete Contact\n",
      "6. Exit\n"
     ]
    },
    {
     "name": "stdin",
     "output_type": "stream",
     "text": [
      "Enter your choice =  3\n",
      "Enter contact name to search : mahima\n"
     ]
    },
    {
     "name": "stdout",
     "output_type": "stream",
     "text": [
      "Found-Name mahima, Phone number 345678 , Email wertyu4567 , Address ghkj\n",
      "----Contact Book----\n",
      "1. Add Contact\n",
      "2. View Contact List\n",
      "3. Search Contact\n",
      "4. Update Contact\n",
      "5. Delete Contact\n",
      "6. Exit\n"
     ]
    },
    {
     "name": "stdin",
     "output_type": "stream",
     "text": [
      "Enter your choice =  shubham\n"
     ]
    },
    {
     "name": "stdout",
     "output_type": "stream",
     "text": [
      "Invalid choice.\n",
      "----Contact Book----\n",
      "1. Add Contact\n",
      "2. View Contact List\n",
      "3. Search Contact\n",
      "4. Update Contact\n",
      "5. Delete Contact\n",
      "6. Exit\n"
     ]
    },
    {
     "name": "stdin",
     "output_type": "stream",
     "text": [
      "Enter your choice =  4\n",
      "Enter name to update contact :  shubham\n",
      "Enter phone number: 456789\n",
      "Enter email address: dfg34567\n",
      "Enter address: ertyu\n"
     ]
    },
    {
     "name": "stdout",
     "output_type": "stream",
     "text": [
      "----Contact Book----\n",
      "1. Add Contact\n",
      "2. View Contact List\n",
      "3. Search Contact\n",
      "4. Update Contact\n",
      "5. Delete Contact\n",
      "6. Exit\n"
     ]
    },
    {
     "name": "stdin",
     "output_type": "stream",
     "text": [
      "Enter your choice =  shubham\n"
     ]
    },
    {
     "name": "stdout",
     "output_type": "stream",
     "text": [
      "Invalid choice.\n",
      "----Contact Book----\n",
      "1. Add Contact\n",
      "2. View Contact List\n",
      "3. Search Contact\n",
      "4. Update Contact\n",
      "5. Delete Contact\n",
      "6. Exit\n"
     ]
    },
    {
     "name": "stdin",
     "output_type": "stream",
     "text": [
      "Enter your choice =  3\n",
      "Enter contact name to search : shubham\n"
     ]
    },
    {
     "name": "stdout",
     "output_type": "stream",
     "text": [
      "Found-Name shubham, Phone number 456789 , Email dfg34567 , Address ertyu\n",
      "----Contact Book----\n",
      "1. Add Contact\n",
      "2. View Contact List\n",
      "3. Search Contact\n",
      "4. Update Contact\n",
      "5. Delete Contact\n",
      "6. Exit\n"
     ]
    },
    {
     "name": "stdin",
     "output_type": "stream",
     "text": [
      "Enter your choice =  5\n",
      "Enter contact name to delete: mahima\n"
     ]
    },
    {
     "name": "stdout",
     "output_type": "stream",
     "text": [
      "Contact name mahima has been deleted successfully!\n",
      "----Contact Book----\n",
      "1. Add Contact\n",
      "2. View Contact List\n",
      "3. Search Contact\n",
      "4. Update Contact\n",
      "5. Delete Contact\n",
      "6. Exit\n"
     ]
    },
    {
     "name": "stdin",
     "output_type": "stream",
     "text": [
      "Enter your choice =  3\n",
      "Enter contact name to search : mahima\n"
     ]
    },
    {
     "name": "stdout",
     "output_type": "stream",
     "text": [
      "No contact found with that name\n",
      "----Contact Book----\n",
      "1. Add Contact\n",
      "2. View Contact List\n",
      "3. Search Contact\n",
      "4. Update Contact\n",
      "5. Delete Contact\n",
      "6. Exit\n"
     ]
    },
    {
     "name": "stdin",
     "output_type": "stream",
     "text": [
      "Enter your choice =  6\n"
     ]
    },
    {
     "name": "stdout",
     "output_type": "stream",
     "text": [
      "Good bye....Closing the program\n"
     ]
    }
   ],
   "source": [
    "# empty dictionary\n",
    "contacts={}\n",
    "\n",
    "def search_contact(contacts):\n",
    "     search_name=input(\"Enter contact name to search :\")\n",
    "     found=False\n",
    "     for name, contact in contacts.items():\n",
    "         if search_name.lower() in name.lower():\n",
    "             print(f\"Found-Name {name}, Phone number {phone_number} , Email {email} , Address {address}\")\n",
    "             found=True\n",
    "     if not found:\n",
    "        print(\"No contact found with that name\")\n",
    "\n",
    "while True:\n",
    "    print(\"----Contact Book----\")\n",
    "    print(\"1. Add Contact\")\n",
    "    print(\"2. View Contact List\")\n",
    "    print(\"3. Search Contact\")\n",
    "    print(\"4. Update Contact\")\n",
    "    print(\"5. Delete Contact\")\n",
    "    print(\"6. Exit\")\n",
    "\n",
    "    user_choice=input('Enter your choice = ')\n",
    "\n",
    "    if user_choice=='1':\n",
    "        name=input(\"Enter name  to add contact =\")\n",
    "        if name in contacts:\n",
    "            print(f\"Contsct name {name} already exists!\")\n",
    "        else:    \n",
    "            phone_number=int(input(\"Enter phone number:\"))\n",
    "            email=input(\"Enter email address:\")\n",
    "            address=input(\"Enter address:\")            \n",
    "            contacts[name]={'Phone number':phone_number,'Email':email,'Address':address}\n",
    "            print(f\"Contact name {name} has been created successfully!\")\n",
    "\n",
    "    elif user_choice=='2':\n",
    "        name=input(\"Enter name to view in contact list:\")\n",
    "        if name in contacts:\n",
    "            contact=contacts[name]\n",
    "            print(f\"Phone number :{phone_number},'Email':{email},'Address':{address}\")\n",
    "        else:\n",
    "            print(\"Contact not found!\")\n",
    "\n",
    "    elif user_choice=='3':\n",
    "        search_contact(contacts)\n",
    "       \n",
    "    elif user_choice=='4':  \n",
    "        name=input(\"Enter name to update contact : \")\n",
    "        if name in contacts:\n",
    "            phone_number=input(\"Enter phone number:\")\n",
    "            email=input(\"Enter email address:\")\n",
    "            address=input(\"Enter address:\")\n",
    "            contacts[name]={'Phone_number': phone_number,'Email':email,'Address':address}\n",
    "        else:   \n",
    "            print(\"contant not found :\")\n",
    "            \n",
    "    elif user_choice=='5':\n",
    "        name=input(\"Enter contact name to delete:\")\n",
    "        if name in contacts:\n",
    "            del contacts[name]\n",
    "            print(f\"Contact name {name} has been deleted successfully!\")\n",
    "        else:\n",
    "            print(\"Contact not found!\")\n",
    "\n",
    "    elif user_choice=='6':\n",
    "        print(\"Good bye....Closing the program\")\n",
    "        break\n",
    "\n",
    "    else:\n",
    "        print(\"Invalid choice.\")\n",
    "        "
   ]
  },
  {
   "cell_type": "code",
   "execution_count": null,
   "id": "cc25cbb6-e2b5-492f-9b23-ea1b76a9ace6",
   "metadata": {},
   "outputs": [],
   "source": []
  },
  {
   "cell_type": "code",
   "execution_count": null,
   "id": "c5078e44-4262-475c-b236-ae0a9982c02c",
   "metadata": {},
   "outputs": [],
   "source": []
  }
 ],
 "metadata": {
  "kernelspec": {
   "display_name": "Python 3 (ipykernel)",
   "language": "python",
   "name": "python3"
  },
  "language_info": {
   "codemirror_mode": {
    "name": "ipython",
    "version": 3
   },
   "file_extension": ".py",
   "mimetype": "text/x-python",
   "name": "python",
   "nbconvert_exporter": "python",
   "pygments_lexer": "ipython3",
   "version": "3.12.4"
  }
 },
 "nbformat": 4,
 "nbformat_minor": 5
}
