{
 "cells": [
  {
   "cell_type": "code",
   "execution_count": 1,
   "id": "17437d2a-8f2e-451f-af42-6db2adb34c7d",
   "metadata": {},
   "outputs": [
    {
     "name": "stdout",
     "output_type": "stream",
     "text": [
      "Welcome to our Password Generator\n"
     ]
    },
    {
     "name": "stdin",
     "output_type": "stream",
     "text": [
      "Enter the length of password you want: 8\n",
      "Include lowercase letter in the password? (yes/no) : yes\n",
      "Include uppercase letter in the password? (yes/no) : Yes\n",
      "Include  digits in the password? (yes/no) : yes\n",
      "Include special characters in the password? (yes/no) : yes\n"
     ]
    },
    {
     "name": "stdout",
     "output_type": "stream",
     "text": [
      "+$L:==P6\n"
     ]
    }
   ],
   "source": [
    "import random\n",
    "import string\n",
    "\n",
    "print(\"Welcome to our Password Generator\")\n",
    "\n",
    "length=int(input(\"Enter the length of password you want:\"))\n",
    "\n",
    "use_lower=input(\"Include lowercase letter in the password? (yes/no) :\").lower() == 'yes'\n",
    "use_upper=input(\"Include uppercase letter in the password? (yes/no) :\").lower() == 'yes'\n",
    "use_digits=input(\"Include  digits in the password? (yes/no) :\").lower() == 'yes'\n",
    "use_symbols=input(\"Include special characters in the password? (yes/no) :\").lower() == 'yes'\n",
    "\n",
    "possible_chars=\"\"\n",
    "if use_lower:\n",
    "    possible_chars += string.ascii_lowercase\n",
    "if use_upper:\n",
    "    possible_chars += string.ascii_uppercase\n",
    "if use_digits:\n",
    "    possible_chars += string.digits\n",
    "if use_symbols:\n",
    "    possible_chars += string.punctuation\n",
    "\n",
    "if not possible_chars:\n",
    "    print(\"Error: You must select at least one character type!\")\n",
    "else:\n",
    "    x=random.choices(possible_chars,k=length)\n",
    "    password=\"\".join(x)\n",
    "    print(password)"
   ]
  },
  {
   "cell_type": "code",
   "execution_count": null,
   "id": "238ede49-d085-45c0-ab47-77ec0c1cb324",
   "metadata": {},
   "outputs": [],
   "source": []
  }
 ],
 "metadata": {
  "kernelspec": {
   "display_name": "Python 3 (ipykernel)",
   "language": "python",
   "name": "python3"
  },
  "language_info": {
   "codemirror_mode": {
    "name": "ipython",
    "version": 3
   },
   "file_extension": ".py",
   "mimetype": "text/x-python",
   "name": "python",
   "nbconvert_exporter": "python",
   "pygments_lexer": "ipython3",
   "version": "3.12.4"
  }
 },
 "nbformat": 4,
 "nbformat_minor": 5
}
