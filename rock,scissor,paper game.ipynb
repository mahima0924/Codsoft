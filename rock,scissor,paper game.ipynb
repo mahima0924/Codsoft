{
 "cells": [
  {
   "cell_type": "markdown",
   "id": "c1b441c2-daa8-49b0-92aa-e5cf1d0a9244",
   "metadata": {},
   "source": [
    "# Workflow of Project"
   ]
  },
  {
   "cell_type": "markdown",
   "id": "5c1ca1c4-9bb0-4d6b-9386-c641bc42ed01",
   "metadata": {},
   "source": [
    "'''\n",
    "1.input from user (rock,scissor,paper)\n",
    "2.computer choice (computer will choose randomly not conditionally)\n",
    "3.result print\n",
    "\n",
    "Cases:\n",
    "A-rock\n",
    "rock-rock=tie\n",
    "rock-paper=paper wins\n",
    "rock-scissor=scissor wins\n",
    "\n",
    "B-paper\n",
    "paper-rock=paper wins\n",
    "paper-paper=tie\n",
    "paper-scissor=scissor wins\n",
    "\n",
    "\n",
    "C-scissor\n",
    "scissor-rock=rock wins\n",
    "scissor-paper=scissor wins\n",
    "scissor-scissor=tie \n",
    "\n",
    "\n",
    "'''"
   ]
  },
  {
   "cell_type": "code",
   "execution_count": 11,
   "id": "0d28952c-140a-44b5-ab12-2e2e1599fffa",
   "metadata": {},
   "outputs": [
    {
     "name": "stdin",
     "output_type": "stream",
     "text": [
      "Enter  your choice from item_list:('rock','paper','scissors'): rock\n"
     ]
    },
    {
     "name": "stdout",
     "output_type": "stream",
     "text": [
      "User choice =  rock, Computer choice = paper\n",
      "paper beats rock = computer win!\n",
      "Score -> user_score: 0, computer_score: 1\n"
     ]
    },
    {
     "name": "stdin",
     "output_type": "stream",
     "text": [
      "Do you want to play again? (yes/no): yes\n",
      "Enter  your choice from item_list:('rock','paper','scissors'): scissors\n"
     ]
    },
    {
     "name": "stdout",
     "output_type": "stream",
     "text": [
      "User choice =  scissors, Computer choice = rock\n",
      "Score -> user_score: 0, computer_score: 1\n"
     ]
    },
    {
     "name": "stdin",
     "output_type": "stream",
     "text": [
      "Do you want to play again? (yes/no): yes\n",
      "Enter  your choice from item_list:('rock','paper','scissors'): paper\n"
     ]
    },
    {
     "name": "stdout",
     "output_type": "stream",
     "text": [
      "User choice =  paper, Computer choice = rock\n",
      "paper beats rock = user win \n",
      "Score -> user_score: 1, computer_score: 1\n"
     ]
    },
    {
     "name": "stdin",
     "output_type": "stream",
     "text": [
      "Do you want to play again? (yes/no): yes\n",
      "Enter  your choice from item_list:('rock','paper','scissors'): rock\n"
     ]
    },
    {
     "name": "stdout",
     "output_type": "stream",
     "text": [
      "User choice =  rock, Computer choice = rock\n",
      "Both chose the same = match tie\n",
      "Score -> user_score: 1, computer_score: 1\n"
     ]
    },
    {
     "name": "stdin",
     "output_type": "stream",
     "text": [
      "Do you want to play again? (yes/no): yes\n",
      "Enter  your choice from item_list:('rock','paper','scissors'): paper\n"
     ]
    },
    {
     "name": "stdout",
     "output_type": "stream",
     "text": [
      "User choice =  paper, Computer choice = paper\n",
      "Both chose the same = match tie\n",
      "Score -> user_score: 1, computer_score: 1\n"
     ]
    },
    {
     "name": "stdin",
     "output_type": "stream",
     "text": [
      "Do you want to play again? (yes/no): yes\n",
      "Enter  your choice from item_list:('rock','paper','scissors'): paper\n"
     ]
    },
    {
     "name": "stdout",
     "output_type": "stream",
     "text": [
      "User choice =  paper, Computer choice = rock\n",
      "paper beats rock = user win \n",
      "Score -> user_score: 2, computer_score: 1\n"
     ]
    },
    {
     "name": "stdin",
     "output_type": "stream",
     "text": [
      "Do you want to play again? (yes/no): no\n"
     ]
    },
    {
     "name": "stdout",
     "output_type": "stream",
     "text": [
      "--- Final Result ---\n",
      "Final Score -> You: 2, Computer: 1\n",
      "congratulations! you are the winner\n",
      "Thankyou for Playing game!\n"
     ]
    }
   ],
   "source": [
    "import random \n",
    "item_list=['rock','paper','scissors']\n",
    "\n",
    "user_score=0\n",
    "computer_score=0\n",
    "\n",
    "\n",
    "# using 'while' loop to allow to replay the game\n",
    "while True:\n",
    "    user_choice1=input(\"Enter  your choice from item_list:('rock','paper','scissors'):\")\n",
    "    user_choice=user_choice1.lower()\n",
    "\n",
    "    # validate user input\n",
    "    if user_choice not in item_list:\n",
    "        print(\"Invalid choice! Please select items from item_list ('rock','paper','scissors'):\")\n",
    "        continue\n",
    "\n",
    "    #generate computer choice\n",
    "    computer_choice=random.choice(item_list)\n",
    "    print(f\"User choice =  {user_choice}, Computer choice = {computer_choice}\")\n",
    "\n",
    "    #Determine the winner\n",
    "    if user_choice==computer_choice:\n",
    "            print(\"Both chose the same = match tie\")\n",
    "    elif user_choice==\"rock\":\n",
    "        if computer_choice=='paper':\n",
    "                print(\"paper beats rock = computer win!\")\n",
    "                computer_score+=1\n",
    "        else:\n",
    "                print(\"rock beats scissor = user win!\")\n",
    "                user_score+=1\n",
    "    elif user_choice==\"scissor\":\n",
    "        if computer_choice=='paper':\n",
    "               print(\"scissor beats paper = user win!\")\n",
    "               user_score+=1\n",
    "        else:\n",
    "               print(\"rock beats scissor = computer win\")\n",
    "               computer_score+=1\n",
    "    elif user_choice==\"paper\":\n",
    "        if computer_choice=='rock':\n",
    "              print(\"paper beats rock = user win \")\n",
    "              user_score+=1\n",
    "        else:\n",
    "              print(\" scissor beats paper = computer win \")\n",
    "              computer_score+=1\n",
    "            \n",
    "    # display user score and computer score\n",
    "    print(f\"Score -> user_score: {user_score}, computer_score: {computer_score}\")\n",
    "\n",
    "    \n",
    "    # replay option\n",
    "    play_again=input(\"Do you want to play again? (yes/no):\").lower()\n",
    "    if play_again != 'yes':\n",
    "       \n",
    "    \n",
    "\n",
    "        #Announce the winner\n",
    "        print(\"--- Final Result ---\")\n",
    "        print(f\"Final Score -> You: {user_score}, Computer: {computer_score}\")\n",
    "        if user_score > computer_score:\n",
    "          print(\"congratulations! you are the winner\")\n",
    "        elif user_score < computer_score:\n",
    "           print(\"computer wins the game! better luck next time\") \n",
    "        else:\n",
    "           print(\"match is tie!\")\n",
    "        print('Thankyou for Playing game!')\n",
    "        break \n",
    "        \n",
    "\n",
    "    \n",
    "\n"
   ]
  },
  {
   "cell_type": "code",
   "execution_count": null,
   "id": "f36f153c-25c7-40dd-96a2-ac4b92de4e1a",
   "metadata": {},
   "outputs": [],
   "source": []
  }
 ],
 "metadata": {
  "kernelspec": {
   "display_name": "Python 3 (ipykernel)",
   "language": "python",
   "name": "python3"
  },
  "language_info": {
   "codemirror_mode": {
    "name": "ipython",
    "version": 3
   },
   "file_extension": ".py",
   "mimetype": "text/x-python",
   "name": "python",
   "nbconvert_exporter": "python",
   "pygments_lexer": "ipython3",
   "version": "3.12.4"
  }
 },
 "nbformat": 4,
 "nbformat_minor": 5
}
